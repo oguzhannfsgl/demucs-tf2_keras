{
  "nbformat": 4,
  "nbformat_minor": 0,
  "metadata": {
    "colab": {
      "provenance": []
    },
    "kernelspec": {
      "name": "python3",
      "display_name": "Python 3"
    },
    "language_info": {
      "name": "python"
    },
    "accelerator": "GPU",
    "gpuClass": "standard"
  },
  "cells": [
    {
      "cell_type": "markdown",
      "source": [
        "#### Install different versions of some libraries"
      ],
      "metadata": {
        "id": "QBABdFV8MJW_"
      }
    },
    {
      "cell_type": "code",
      "execution_count": null,
      "metadata": {
        "id": "TPOfOO12L9hS"
      },
      "outputs": [],
      "source": [
        "!pip install ipython==7.30.1\n",
        "!pip install tensorflow_io==0.21.0"
      ]
    },
    {
      "cell_type": "code",
      "source": [
        "import os\n",
        "os.kill(os.getpid(), 9)"
      ],
      "metadata": {
        "id": "WhVnsqY9L8zl"
      },
      "execution_count": null,
      "outputs": []
    },
    {
      "cell_type": "markdown",
      "source": [
        "#### Prepare MUSDB18 dataset"
      ],
      "metadata": {
        "id": "_ACCTFtZNhEU"
      }
    },
    {
      "cell_type": "code",
      "source": [
        "!wget -O musdb18.zip https://zenodo.org/record/1117372/files/musdb18.zip?download=1\n",
        "!mkdir /content/data\n",
        "!unzip musdb18.zip -d /content/data\n",
        "!rm musdb18.zip\n",
        "!ls -lh -R\n",
        "\n",
        "\n",
        "import os\n",
        "import shutil\n",
        "os.getcwd()\n",
        "\n",
        "### Convert STEM(.mp4) files into .wav files ###\n",
        "!pip install musdb\n",
        "!git clone https://github.com/sigsep/sigsep-mus-io\n",
        "os.chdir(\"./sigsep-mus-io/scripts\")\n",
        "import musdb\n",
        "decode_content = r\"\"\"\n",
        "cd \"/content/data\"\n",
        "\n",
        "subsets=( \"test\" \"train\" )\n",
        "\n",
        "for t in \"${subsets[@]}\"\n",
        "do\n",
        "  # encode to AAC\n",
        "  cd $t;\n",
        "  for stem in *.stem.mp4;\n",
        "    do name=`echo $stem | awk -F\".stem.mp4\" '{$0=$1}1'`;\n",
        "    echo \"$stem\";\n",
        "    mkdir \"$name\";\n",
        "    cd \"$name\";\n",
        "    ffmpeg -loglevel panic -i \"../${stem}\" -map 0:0 -vn mixture.wav\n",
        "    ffmpeg -loglevel panic -i \"../${stem}\" -map 0:1 -vn drums.wav\n",
        "    ffmpeg -loglevel panic -i \"../${stem}\" -map 0:2 -vn bass.wav\n",
        "    ffmpeg -loglevel panic -i \"../${stem}\" -map 0:3 -vn other.wav\n",
        "    ffmpeg -loglevel panic -i \"../${stem}\" -map 0:4 -vn vocals.wav\n",
        "    cd ..;\n",
        "    rm \"$stem\"\n",
        "  done\n",
        "  cd ..;\n",
        "done\n",
        "\"\"\"\n",
        "with open(\"decode.sh\", \"w\") as file:\n",
        "    file.write(decode_content)\n",
        "    \n",
        "!bash decode.sh\n",
        "\n",
        "os.chdir(\"..\")\n",
        "os.chdir(\"..\")\n",
        "shutil.rmtree(\"/content/sigsep-mus-io\")"
      ],
      "metadata": {
        "id": "4K0zgqzeKvZq"
      },
      "execution_count": null,
      "outputs": []
    },
    {
      "cell_type": "markdown",
      "source": [
        "#### Clone the repo and change directory into it"
      ],
      "metadata": {
        "id": "u2gG0QZ2Mg13"
      }
    },
    {
      "cell_type": "code",
      "source": [
        "! git clone https://github.com/oguzhannfsgl/demucs-tf2_keras\n",
        "\n",
        "os.chdir(\"/content/demucs-tf2_keras\")"
      ],
      "metadata": {
        "id": "i2Rk-36YMXB8"
      },
      "execution_count": null,
      "outputs": []
    },
    {
      "cell_type": "markdown",
      "source": [
        "#### Now, you can train the model with default settings.\n",
        "\n",
        "##### You can change the settings from cfg.py file."
      ],
      "metadata": {
        "id": "gFrEsEZeNMdR"
      }
    },
    {
      "cell_type": "code",
      "source": [
        "!python train.py"
      ],
      "metadata": {
        "id": "NjDGK9j7NK2q"
      },
      "execution_count": null,
      "outputs": []
    },
    {
      "cell_type": "code",
      "source": [],
      "metadata": {
        "id": "m8vYDL9fPQ-b"
      },
      "execution_count": null,
      "outputs": []
    }
  ]
}