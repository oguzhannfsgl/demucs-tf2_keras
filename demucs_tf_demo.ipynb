{
  "nbformat": 4,
  "nbformat_minor": 0,
  "metadata": {
    "colab": {
      "provenance": []
    },
    "kernelspec": {
      "name": "python3",
      "display_name": "Python 3"
    },
    "language_info": {
      "name": "python"
    },
    "accelerator": "GPU",
    "gpuClass": "standard"
  },
  "cells": [
    {
      "cell_type": "markdown",
      "source": [
        "#### Install different versions of some libraries"
      ],
      "metadata": {
        "id": "QBABdFV8MJW_"
      }
    },
    {
      "cell_type": "code",
      "execution_count": null,
      "metadata": {
        "id": "TPOfOO12L9hS"
      },
      "outputs": [],
      "source": [
        "!pip install ipython==7.30.1\n",
        "!pip install tensorflow_io==0.21.0"
      ]
    },
    {
      "cell_type": "code",
      "source": [
        "import os\n",
        "os.kill(os.getpid(), 9)"
      ],
      "metadata": {
        "id": "WhVnsqY9L8zl"
      },
      "execution_count": null,
      "outputs": []
    },
    {
      "cell_type": "markdown",
      "source": [
        "#### Prepare MUSDB18 dataset"
      ],
      "metadata": {
        "id": "_ACCTFtZNhEU"
      }
    },
    {
      "cell_type": "code",
      "source": [
        "!wget -O musdb18.zip https://zenodo.org/record/1117372/files/musdb18.zip?download=1\n",
        "!mkdir /content/data\n",
        "!unzip musdb18.zip -d /content/data\n",
        "!rm musdb18.zip\n",
        "!ls -lh -R\n",
        "\n",
        "\n",
        "import os\n",
        "import shutil\n",
        "os.getcwd()\n",
        "\n",
        "### Convert STEM(.mp4) files into .wav files ###\n",
        "!pip install musdb\n",
        "!git clone https://github.com/sigsep/sigsep-mus-io\n",
        "os.chdir(\"./sigsep-mus-io/scripts\")\n",
        "import musdb\n",
        "decode_content = r\"\"\"\n",
        "cd \"/content/data\"\n",
        "\n",
        "subsets=( \"test\" \"train\" )\n",
        "\n",
        "for t in \"${subsets[@]}\"\n",
        "do\n",
        "  # encode to AAC\n",
        "  cd $t;\n",
        "  for stem in *.stem.mp4;\n",
        "    do name=`echo $stem | awk -F\".stem.mp4\" '{$0=$1}1'`;\n",
        "    echo \"$stem\";\n",
        "    mkdir \"$name\";\n",
        "    cd \"$name\";\n",
        "    ffmpeg -loglevel panic -i \"../${stem}\" -map 0:0 -vn mixture.wav\n",
        "    ffmpeg -loglevel panic -i \"../${stem}\" -map 0:1 -vn drums.wav\n",
        "    ffmpeg -loglevel panic -i \"../${stem}\" -map 0:2 -vn bass.wav\n",
        "    ffmpeg -loglevel panic -i \"../${stem}\" -map 0:3 -vn other.wav\n",
        "    ffmpeg -loglevel panic -i \"../${stem}\" -map 0:4 -vn vocals.wav\n",
        "    cd ..;\n",
        "    rm \"$stem\"\n",
        "  done\n",
        "  cd ..;\n",
        "done\n",
        "\"\"\"\n",
        "with open(\"decode.sh\", \"w\") as file:\n",
        "    file.write(decode_content)\n",
        "    \n",
        "!bash decode.sh\n",
        "\n",
        "os.chdir(\"..\")\n",
        "os.chdir(\"..\")\n",
        "shutil.rmtree(\"/content/sigsep-mus-io\")"
      ],
      "metadata": {
        "id": "4K0zgqzeKvZq"
      },
      "execution_count": null,
      "outputs": []
    },
    {
      "cell_type": "markdown",
      "source": [
        "#### Clone the repo and change directory into it"
      ],
      "metadata": {
        "id": "u2gG0QZ2Mg13"
      }
    },
    {
      "cell_type": "code",
      "source": [
        "! git clone https://github.com/oguzhannfsgl/demucs-tf2_keras\n",
        "\n",
        "os.chdir(\"/content/demucs-tf2_keras\")"
      ],
      "metadata": {
        "colab": {
          "base_uri": "https://localhost:8080/"
        },
        "id": "i2Rk-36YMXB8",
        "outputId": "2ea23f2c-b40e-4cab-b7d0-7f6375fb2277"
      },
      "execution_count": 4,
      "outputs": [
        {
          "output_type": "stream",
          "name": "stdout",
          "text": [
            "Cloning into 'demucs-tf2_keras'...\n",
            "remote: Enumerating objects: 14, done.\u001b[K\n",
            "remote: Counting objects: 100% (14/14), done.\u001b[K\n",
            "remote: Compressing objects: 100% (14/14), done.\u001b[K\n",
            "remote: Total 14 (delta 2), reused 0 (delta 0), pack-reused 0\u001b[K\n",
            "Unpacking objects: 100% (14/14), done.\n"
          ]
        }
      ]
    },
    {
      "cell_type": "markdown",
      "source": [
        "#### Now, you can train the model with default settings.\n",
        "\n",
        "##### You can change the settings from cfg.py file."
      ],
      "metadata": {
        "id": "gFrEsEZeNMdR"
      }
    },
    {
      "cell_type": "code",
      "source": [
        "!python train.py"
      ],
      "metadata": {
        "colab": {
          "base_uri": "https://localhost:8080/"
        },
        "id": "NjDGK9j7NK2q",
        "outputId": "5e563447-35b5-4a4b-8911-e810bca42bc5"
      },
      "execution_count": 6,
      "outputs": [
        {
          "output_type": "stream",
          "name": "stdout",
          "text": [
            "2022-09-13 19:07:39.260237: E tensorflow/stream_executor/cuda/cuda_driver.cc:271] failed call to cuInit: CUDA_ERROR_NO_DEVICE: no CUDA-capable device is detected\n",
            "2022-09-13 19:07:39.260297: I tensorflow/stream_executor/cuda/cuda_diagnostics.cc:156] kernel driver does not appear to be running on this host (e323e2e6f98e): /proc/driver/nvidia/version does not exist\n",
            "Initialized the model.\n",
            "2022-09-13 19:07:39.442767: I tensorflow_io/core/kernels/cpu_check.cc:128] Your CPU supports instructions that this TensorFlow IO binary was not compiled to use: AVX2 FMA\n",
            "Created the dataset.\n",
            "2022-09-13 19:08:12.211846: I tensorflow/compiler/mlir/mlir_graph_optimization_pass.cc:185] None of the MLIR Optimization Passes are enabled (registered 2)\n",
            "Epoch 1/150\n",
            "WARNING:tensorflow:Using a while_loop for converting IO>AudioResample\n",
            "WARNING:tensorflow:Using a while_loop for converting IO>AudioResample\n",
            "WARNING:tensorflow:Using a while_loop for converting IO>AudioResample\n",
            "WARNING:tensorflow:Using a while_loop for converting IO>AudioResample\n",
            "WARNING:tensorflow:Using a while_loop for converting IO>AudioResample\n",
            "WARNING:tensorflow:Using a while_loop for converting IO>AudioResample\n",
            "WARNING:tensorflow:Using a while_loop for converting IO>AudioResample\n",
            "WARNING:tensorflow:Using a while_loop for converting IO>AudioResample\n",
            "WARNING:tensorflow:Using a while_loop for converting IO>AudioResample\n",
            "WARNING:tensorflow:Using a while_loop for converting IO>AudioResample\n",
            "WARNING:tensorflow:Using a while_loop for converting IO>AudioResample\n",
            "WARNING:tensorflow:Using a while_loop for converting IO>AudioResample\n",
            "WARNING:tensorflow:Using a while_loop for converting IO>AudioResample\n",
            "WARNING:tensorflow:Using a while_loop for converting IO>AudioResample\n",
            "WARNING:tensorflow:Using a while_loop for converting IO>AudioResample\n",
            "WARNING:tensorflow:Using a while_loop for converting IO>AudioResample\n",
            "  2/231 [..............................] - ETA: 5:05:00 - loss: 0.3282 - l1_loss: 0.3282^C\n"
          ]
        }
      ]
    },
    {
      "cell_type": "code",
      "source": [],
      "metadata": {
        "id": "m8vYDL9fPQ-b"
      },
      "execution_count": null,
      "outputs": []
    }
  ]
}